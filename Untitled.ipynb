{
 "cells": [
  {
   "cell_type": "code",
   "execution_count": 1,
   "id": "ef436e87",
   "metadata": {},
   "outputs": [],
   "source": [
    "from flask import Flask,render_template,request\n",
    "import numpy as np\n",
    "import pickle"
   ]
  },
  {
   "cell_type": "code",
   "execution_count": 2,
   "id": "c19cfaee",
   "metadata": {},
   "outputs": [],
   "source": [
    "with open(\"news.pkl\",'rb') as f:\n",
    "    model = pickle.load(f)\n",
    "#create an object instance"
   ]
  },
  {
   "cell_type": "code",
   "execution_count": 3,
   "id": "bc4a3802",
   "metadata": {},
   "outputs": [],
   "source": [
    "app = Flask(__name__)\n",
    "@app.route('/saketh')\n",
    "def check():\n",
    "    return \"Codegnan is in NBKR\"\n"
   ]
  },
  {
   "cell_type": "code",
   "execution_count": 4,
   "id": "8178633d",
   "metadata": {},
   "outputs": [],
   "source": [
    "@app.route('/recommend_news', methods=['POST'])\n",
    "def recommend_news():\n",
    "    # Extract news recommendation input from the form\n",
    "    user_input = request.form['news_input']\n",
    "\n",
    "    # Make news recommendation (example data)\n",
    "    #recommendations = pd.DataFrame({\n",
    "    #    'Title': ['News 1', 'News 2', 'News 3'],\n",
    "    #    'Category': ['Category A', 'Category B', 'Category A']\n",
    "   # })\n",
    "\n",
    "    if recommendations.empty:\n",
    "        news_recommendation_result = 'No relevant news found.'\n",
    "    else:\n",
    "        news_recommendation_result = 'Recommended News:'\n",
    "        # Convert recommendations to a list of dictionaries for rendering in HTML\n",
    "        recommended_news_list = recommendations.to_dict(orient='records')\n",
    "\n",
    "        # Render each recommended news as a list item\n",
    "        news_recommendation_result += '<ul>'\n",
    "        for news in recommended_news_list:\n",
    "            news_recommendation_result += f'<li>{news[\"Title\"]} - {news[\"Category\"]}</li>'\n",
    "        news_recommendation_result += '</ul>'\n",
    "\n",
    "    return template('index.html', news_recommendation_result=news_recommendation_result)\n"
   ]
  },
  {
   "cell_type": "code",
   "execution_count": null,
   "id": "57d53e42",
   "metadata": {},
   "outputs": [
    {
     "name": "stdout",
     "output_type": "stream",
     "text": [
      " * Serving Flask app '__main__'\n",
      " * Debug mode: off\n"
     ]
    },
    {
     "name": "stderr",
     "output_type": "stream",
     "text": [
      "WARNING: This is a development server. Do not use it in a production deployment. Use a production WSGI server instead.\n",
      " * Running on http://127.0.0.1:5000\n",
      "Press CTRL+C to quit\n",
      "127.0.0.1 - - [09/Dec/2023 23:12:42] \"GET / HTTP/1.1\" 404 -\n"
     ]
    }
   ],
   "source": [
    "app.run()"
   ]
  },
  {
   "cell_type": "code",
   "execution_count": null,
   "id": "03f1021d",
   "metadata": {},
   "outputs": [],
   "source": []
  }
 ],
 "metadata": {
  "kernelspec": {
   "display_name": "Python 3 (ipykernel)",
   "language": "python",
   "name": "python3"
  },
  "language_info": {
   "codemirror_mode": {
    "name": "ipython",
    "version": 3
   },
   "file_extension": ".py",
   "mimetype": "text/x-python",
   "name": "python",
   "nbconvert_exporter": "python",
   "pygments_lexer": "ipython3",
   "version": "3.11.4"
  }
 },
 "nbformat": 4,
 "nbformat_minor": 5
}
